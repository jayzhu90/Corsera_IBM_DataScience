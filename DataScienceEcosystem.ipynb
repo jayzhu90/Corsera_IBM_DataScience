{
 "cells": [
  {
   "cell_type": "markdown",
   "id": "a9df0c5c-6796-47b1-bcb0-8481d42c4d98",
   "metadata": {},
   "source": [
    "# Data Science Tools and Ecosystem"
   ]
  },
  {
   "cell_type": "markdown",
   "id": "8a62bba8-f050-407e-b392-648e0c433f48",
   "metadata": {},
   "source": [
    "## Author\n",
    "Zhu Jianzhong"
   ]
  },
  {
   "cell_type": "markdown",
   "id": "85021e02-da71-4ccb-a43c-7303a1506cb4",
   "metadata": {},
   "source": [
    "In this notebook, Data Science Tools and Ecosystem are summarized."
   ]
  },
  {
   "cell_type": "markdown",
   "id": "afdb775d-c185-4935-8030-e7e48201b483",
   "metadata": {},
   "source": [
    "**Objectives:**\n",
    "* introduction\n",
    "* List popular languages for Data Science\n",
    "* data science libraries\n",
    "* Data Science tools\n",
    "* arithmetic expression"
   ]
  },
  {
   "cell_type": "markdown",
   "id": "fabeec5b-7954-4735-a7e2-e8e1bf1ee31b",
   "metadata": {},
   "source": [
    "Some of the popular languages that Data Scientists use are:\n",
    "1. Python\n",
    "2. R\n",
    "3. SQL"
   ]
  },
  {
   "cell_type": "markdown",
   "id": "06c0edbf-fc79-436a-8ed5-41f7a3eb7e04",
   "metadata": {},
   "source": [
    "Some of the commonly used libraries used by Data Scientists include:\n",
    "1. Numpy\n",
    "2. Pandas\n",
    "3. Seaborn\n",
    "4. Matplotlib\n",
    "5. Scikit-learn"
   ]
  },
  {
   "cell_type": "markdown",
   "id": "65baf2be-6955-4416-b6ef-ba6c2e63c0e2",
   "metadata": {},
   "source": [
    "|Data Science Tools|\n",
    "|------------------|\n",
    "|Jupyter Notebook|\n",
    "|RStudio|\n",
    "|JypyterLab|"
   ]
  },
  {
   "cell_type": "markdown",
   "id": "a9cfe01b-b085-4833-8b57-b1dc7f450dbc",
   "metadata": {},
   "source": [
    "### Below are a few examples of evaluating arithmetic expressions in Python"
   ]
  },
  {
   "cell_type": "code",
   "execution_count": 22,
   "id": "63af8943-537f-40f7-b4e6-4ae2155ff9c1",
   "metadata": {},
   "outputs": [
    {
     "data": {
      "text/plain": [
       "17"
      ]
     },
     "execution_count": 22,
     "metadata": {},
     "output_type": "execute_result"
    }
   ],
   "source": [
    "# This a simple arithmetic expression to mutiply then add integers\n",
    "(3*4)+5"
   ]
  },
  {
   "cell_type": "code",
   "execution_count": 12,
   "id": "f2f94993-155e-4d27-851d-ad665792b2da",
   "metadata": {},
   "outputs": [
    {
     "data": {
      "text/plain": [
       "3.3333333333333335"
      ]
     },
     "execution_count": 12,
     "metadata": {},
     "output_type": "execute_result"
    }
   ],
   "source": [
    "# This will convert 200 minutes to hours by diving by 60\n",
    "200/60"
   ]
  },
  {
   "cell_type": "code",
   "execution_count": null,
   "id": "e4e480e1-8e46-4bf5-b419-9d0189b3e3da",
   "metadata": {},
   "outputs": [],
   "source": []
  }
 ],
 "metadata": {
  "kernelspec": {
   "display_name": "Python 3 (ipykernel)",
   "language": "python",
   "name": "python3"
  },
  "language_info": {
   "codemirror_mode": {
    "name": "ipython",
    "version": 3
   },
   "file_extension": ".py",
   "mimetype": "text/x-python",
   "name": "python",
   "nbconvert_exporter": "python",
   "pygments_lexer": "ipython3",
   "version": "3.12.4"
  }
 },
 "nbformat": 4,
 "nbformat_minor": 5
}
